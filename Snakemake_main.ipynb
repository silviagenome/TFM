{
 "cells": [
  {
   "cell_type": "code",
   "execution_count": null,
   "id": "06cc3517-4070-4bdc-8d4e-6363e3ad2b10",
   "metadata": {},
   "outputs": [],
   "source": [
    "configfile: \"config.yaml\"\n",
    "\n",
    "rule download_data:\n",
    "    input:\n",
    "        expand(\n",
    "        )\n",
    "    output:\n",
    "        \"data/lncRNA_GLDS-168.fastq\"\n",
    "    shell:\n",
    "        \"conda activate genelab-utils\"\n",
    "    shell:\n",
    "        \"GL-download-GLDS-data -g OSD-168 -f --pattern GLDS-168_rna_seq_Mmus_C57-6J_LVR_RR1_VIV_noERCC_Rep1_M16_R2_raw.fastq.gz\"\n",
    "    shell:\n",
    "        \"gunzip GLDS-168_rna_seq_Mmus_C57-6J_LVR_RR1_VIV_noERCC_Rep1_M16_R2_raw.fastq.gz\"\n",
    "\n",
    "rule quality:\n",
    "    input:\n",
    "        \"data/lncRNA_GLDS-168.fastq\"\n",
    "    output:\n",
    "        \"data/lncRNA_GLDS-168_quality.fastq\"\n",
    "    tools:\n",
    "        Trimmomatic\n",
    "\n",
    "rule alignment:\n",
    "    input:\n",
    "        \"data/lncRNA_GLDS-168_quality.fastq\"\n",
    "    output:\n",
    "        \"data/lncRNA_GLDS-168_quality_aligned.fastq\"\n",
    "    tools:\n",
    "        Alignment tools\n",
    "\n",
    "rule quantification:\n",
    "    input:\n",
    "        \"data/lncRNA_GLDS-168_quality_aligned.fastq\"\n",
    "    output:\n",
    "        \"data/read_counts.csv\"\n",
    "    tools:\n",
    "        Quantification tools\n",
    "\n",
    "rule normalization:\n",
    "    input:\n",
    "        \"data/lncRNA_GLDS-168_quality_aligned.fastq\"\n",
    "    output:\n",
    "        \"data/lncRNA_GLDS-168_quality_aligned_normalized.fastq\"\n",
    "    tools:\n",
    "        R library deseq2\n",
    "\n",
    "rule expression_analysis:"
   ]
  }
 ],
 "metadata": {
  "kernelspec": {
   "display_name": "Python3.8",
   "language": "python",
   "name": "python3.8"
  },
  "language_info": {
   "codemirror_mode": {
    "name": "ipython",
    "version": 3
   },
   "file_extension": ".py",
   "mimetype": "text/x-python",
   "name": "python",
   "nbconvert_exporter": "python",
   "pygments_lexer": "ipython3",
   "version": "3.8.5"
  }
 },
 "nbformat": 4,
 "nbformat_minor": 5
}
