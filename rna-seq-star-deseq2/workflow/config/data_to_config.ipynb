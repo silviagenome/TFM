{
 "cells": [
  {
   "cell_type": "code",
   "execution_count": 38,
   "id": "95758f97-aa50-4419-b163-b6a54154e827",
   "metadata": {},
   "outputs": [
    {
     "name": "stdout",
     "output_type": "stream",
     "text": [
      "{'sample_num': ['1', '1', '2', '2', '1', '1', '2', '2'], 'genelab_id': ['OSD-168', 'OSD-168', 'OSD-168', 'OSD-168', 'OSD-168', 'OSD-168', 'OSD-168', 'OSD-168'], 'condition': ['control', 'control', 'control', 'control', 'spaceflight', 'spaceflight', 'spaceflight', 'spaceflight'], 'filename': ['GLDS-168_rna_seq_Mmus_C57-6J_LVR_RR1_GC_noERCC_Rep1_M36_R1_raw.fastq.gz', 'GLDS-168_rna_seq_Mmus_C57-6J_LVR_RR1_GC_noERCC_Rep1_M36_R2_raw.fastq.gz', 'GLDS-168_rna_seq_Mmus_C57-6J_LVR_RR1_GC_noERCC_Rep2_M37_R1_raw.fastq.gz', 'GLDS-168_rna_seq_Mmus_C57-6J_LVR_RR1_GC_noERCC_Rep2_M37_R2_raw.fastq.gz', 'GLDS-168_rna_seq_Mmus_C57-6J_LVR_RR1_FLT_noERCC_Rep1_M25_R1_raw.fastq.gz', 'GLDS-168_rna_seq_Mmus_C57-6J_LVR_RR1_FLT_noERCC_Rep1_M25_R2_raw.fastq.gz', 'GLDS-168_rna_seq_Mmus_C57-6J_LVR_RR1_FLT_noERCC_Rep2_M26_R1_raw.fastq.gz', 'GLDS-168_rna_seq_Mmus_C57-6J_LVR_RR1_FLT_noERCC_Rep2_M26_R2_raw.fastq.gz'], 'read': ['R1', 'R2', 'R1', 'R2', 'R1', 'R2', 'R1', 'R2'], 'replicate': ['rep1', 'rep1', 'rep2', 'rep2', 'rep1', 'rep1', 'rep2', 'rep2']}\n",
      "  sample_name  unit_name    condition  \\\n",
      "0          A1          1      control   \n",
      "1          B1          1  spaceflight   \n",
      "2          A2          1      control   \n",
      "3          B2          1  spaceflight   \n",
      "\n",
      "                                                 fq1  \\\n",
      "0  GLDS-168_rna_seq_Mmus_C57-6J_LVR_RR1_GC_noERCC...   \n",
      "1  GLDS-168_rna_seq_Mmus_C57-6J_LVR_RR1_FLT_noERC...   \n",
      "2  GLDS-168_rna_seq_Mmus_C57-6J_LVR_RR1_GC_noERCC...   \n",
      "3  GLDS-168_rna_seq_Mmus_C57-6J_LVR_RR1_FLT_noERC...   \n",
      "\n",
      "                                                 fq2  \n",
      "0  GLDS-168_rna_seq_Mmus_C57-6J_LVR_RR1_GC_noERCC...  \n",
      "1  GLDS-168_rna_seq_Mmus_C57-6J_LVR_RR1_FLT_noERC...  \n",
      "2  GLDS-168_rna_seq_Mmus_C57-6J_LVR_RR1_GC_noERCC...  \n",
      "3  GLDS-168_rna_seq_Mmus_C57-6J_LVR_RR1_FLT_noERC...  \n"
     ]
    }
   ],
   "source": [
    "import pandas as pd\n",
    "\n",
    "columns = ['sample_num', 'genelab_id', 'condition', 'filename', 'read', 'replicate']\n",
    "data_dict = {col: [] for col in columns}\n",
    "\n",
    "with open(\"/home/alumno15/TFM/raw_data.txt\", 'r') as file:\n",
    "    for line in file:\n",
    "        line = line.strip().split(' ')\n",
    "        for i, col in enumerate(columns):\n",
    "            data_dict[col].append(line[i])\n",
    "print(data_dict)\n",
    "\n",
    "df = pd.DataFrame(data_dict)\n",
    "\n",
    "# Crear un nuevo dataframe con la información agregada\n",
    "new_data = {'sample_name': ['A1', 'B1', 'A2', 'B2'],\n",
    "            'condition': ['control', 'spaceflight', 'control', 'spaceflight']}\n",
    "new_df = pd.DataFrame(new_data)\n",
    "\n",
    "# Agregar al nuevo dataframe la información correspondiente a cada muestra\n",
    "for i, row in new_df.iterrows():\n",
    "    sample_name = row['sample_name']\n",
    "    condition = row['condition']\n",
    "    filenames = df[(df['genelab_id'] == 'OSD-168') & (df['condition'] == condition)]['filename'].tolist()\n",
    "    new_df.at[i, 'fq1'] = \"/home/alumno15/TFM/rawReads/\"+filenames[0] if sample_name.startswith('A') else \"/home/alumno15/TFM/rawReads/\"+filenames[2]\n",
    "    new_df.at[i, 'fq2'] = \"/home/alumno15/TFM/rawReads/\"+filenames[1] if sample_name.startswith('A') else \"/home/alumno15/TFM/rawReads/\"+filenames[3]\n",
    "\n",
    "# Mostrar el nuevo dataframe con la información agregada\n",
    "new_df.insert(1, \"unit_name\", [1,1,1,1], True)\n",
    "print(new_df)"
   ]
  },
  {
   "cell_type": "code",
   "execution_count": 45,
   "id": "12ca116c-05be-4dda-a62f-b99b7fca9a50",
   "metadata": {},
   "outputs": [],
   "source": [
    "header1 = [\"sample_name\", \"condition\"]\n",
    "new_df.to_csv(\"samples.tsv\", sep=\"\\t\", mode = \"w+\", columns = header1, index = False)"
   ]
  },
  {
   "cell_type": "code",
   "execution_count": 41,
   "id": "32a80259-fe1d-4eb3-a5a3-3b0fbb7cb972",
   "metadata": {},
   "outputs": [],
   "source": [
    "header2 = [\"sample_name\", \"unit_name\", \"fq1\", \"fq2\"]\n",
    "new_df.to_csv(\"units2.tsv\", sep=\"\\t\", columns = header2, index = False)"
   ]
  }
 ],
 "metadata": {
  "kernelspec": {
   "display_name": "Python3.8",
   "language": "python",
   "name": "python3.8"
  },
  "language_info": {
   "codemirror_mode": {
    "name": "ipython",
    "version": 3
   },
   "file_extension": ".py",
   "mimetype": "text/x-python",
   "name": "python",
   "nbconvert_exporter": "python",
   "pygments_lexer": "ipython3",
   "version": "3.8.5"
  }
 },
 "nbformat": 4,
 "nbformat_minor": 5
}
